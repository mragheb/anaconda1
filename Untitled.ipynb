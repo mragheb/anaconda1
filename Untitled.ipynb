{
 "cells": [
  {
   "cell_type": "code",
   "execution_count": 3,
   "metadata": {},
   "outputs": [],
   "source": [
    "import re\n",
    "def translitArabic(text):\n",
    "    buckwalterMod = {\n",
    "        'ء': 'c', 'ا': 'A', 'إ': 'A',\n",
    "        'أ': 'A', 'آ': 'A', 'ب': 'b',\n",
    "        'ة': 'o', 'ت': 't', 'ث': 'v',\n",
    "        'ج': 'j', 'ح': 'H', 'خ': 'x',\n",
    "        'د': 'd', 'ذ': 'V', 'ر': 'r',\n",
    "        'ز': 'z', 'س': 's', 'ش': 'E',\n",
    "        'ص': 'S', 'ض': 'D', 'ط': 'T',\n",
    "        'ظ': 'Z', 'ع': 'C', 'غ': 'g',\n",
    "        'ف': 'f', 'ق': 'q', 'ك': 'k',\n",
    "        'ل': 'l', 'م': 'm', 'ن': 'n',\n",
    "        'ه': 'h', 'ؤ': 'c', 'و': 'w',\n",
    "        'ى': 'y', 'ئ': 'c', 'ي': 'y',\n",
    "        }\n",
    "    for k, v in buckwalterMod.items():\n",
    "        text = re.sub(k, v, text)\n",
    "    return(text)"
   ]
  },
  {
   "cell_type": "code",
   "execution_count": 4,
   "metadata": {},
   "outputs": [
    {
     "name": "stdout",
     "output_type": "stream",
     "text": [
      "An AlqrAc yqrcwn AlqrAn qrAco jmylo\n"
     ]
    }
   ],
   "source": [
    "testLine = \"إن القراء يقرؤون القرآن قراءة جميلة\"\n",
    "\n",
    "print(translitArabic(testLine))\n"
   ]
  },
  {
   "cell_type": "code",
   "execution_count": 5,
   "metadata": {},
   "outputs": [],
   "source": [
    "#from: https://alraqmiyyat.github.io/2013/01-02.html"
   ]
  },
  {
   "cell_type": "code",
   "execution_count": null,
   "metadata": {},
   "outputs": [],
   "source": []
  }
 ],
 "metadata": {
  "kernelspec": {
   "display_name": "Python 3",
   "language": "python",
   "name": "python3"
  },
  "language_info": {
   "codemirror_mode": {
    "name": "ipython",
    "version": 3
   },
   "file_extension": ".py",
   "mimetype": "text/x-python",
   "name": "python",
   "nbconvert_exporter": "python",
   "pygments_lexer": "ipython3",
   "version": "3.6.5"
  }
 },
 "nbformat": 4,
 "nbformat_minor": 2
}
